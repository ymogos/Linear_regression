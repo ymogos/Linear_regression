{
 "cells": [
  {
   "cell_type": "code",
   "execution_count": 1,
   "metadata": {},
   "outputs": [],
   "source": [
    "# Import Libraries\n",
    "import numpy as np\n",
    "import pandas as pd\n",
    "import matplotlib.pyplot as plt\n",
    "import seaborn as sns\n",
    "from sklearn.linear_model import LinearRegression\n",
    "from sklearn.preprocessing import MinMaxScaler\n",
    "from sklearn.model_selection import train_test_split\n",
    "from sklearn.metrics import mean_squared_error\n",
    "from sklearn.metrics import r2_score\n",
    "import sklearn.metrics as metrics"
   ]
  },
  {
   "cell_type": "code",
   "execution_count": 14,
   "id": "21138ad8",
   "metadata": {},
   "outputs": [
    {
     "data": {
      "text/html": [
       "<div>\n",
       "<style scoped>\n",
       "    .dataframe tbody tr th:only-of-type {\n",
       "        vertical-align: middle;\n",
       "    }\n",
       "\n",
       "    .dataframe tbody tr th {\n",
       "        vertical-align: top;\n",
       "    }\n",
       "\n",
       "    .dataframe thead th {\n",
       "        text-align: right;\n",
       "    }\n",
       "</style>\n",
       "<table border=\"1\" class=\"dataframe\">\n",
       "  <thead>\n",
       "    <tr style=\"text-align: right;\">\n",
       "      <th></th>\n",
       "      <th>age</th>\n",
       "      <th>sex</th>\n",
       "      <th>bmi</th>\n",
       "      <th>bp</th>\n",
       "      <th>s1</th>\n",
       "      <th>s2</th>\n",
       "      <th>s3</th>\n",
       "      <th>s4</th>\n",
       "      <th>s5</th>\n",
       "      <th>s6</th>\n",
       "      <th>Progression</th>\n",
       "    </tr>\n",
       "  </thead>\n",
       "  <tbody>\n",
       "    <tr>\n",
       "      <th>0</th>\n",
       "      <td>0.038076</td>\n",
       "      <td>0.050680</td>\n",
       "      <td>0.061696</td>\n",
       "      <td>0.021872</td>\n",
       "      <td>-0.044223</td>\n",
       "      <td>-0.034821</td>\n",
       "      <td>-0.043401</td>\n",
       "      <td>-0.002592</td>\n",
       "      <td>0.019907</td>\n",
       "      <td>-0.017646</td>\n",
       "      <td>151.0</td>\n",
       "    </tr>\n",
       "    <tr>\n",
       "      <th>1</th>\n",
       "      <td>-0.001882</td>\n",
       "      <td>-0.044642</td>\n",
       "      <td>-0.051474</td>\n",
       "      <td>-0.026328</td>\n",
       "      <td>-0.008449</td>\n",
       "      <td>-0.019163</td>\n",
       "      <td>0.074412</td>\n",
       "      <td>-0.039493</td>\n",
       "      <td>-0.068332</td>\n",
       "      <td>-0.092204</td>\n",
       "      <td>75.0</td>\n",
       "    </tr>\n",
       "    <tr>\n",
       "      <th>2</th>\n",
       "      <td>0.085299</td>\n",
       "      <td>0.050680</td>\n",
       "      <td>0.044451</td>\n",
       "      <td>-0.005670</td>\n",
       "      <td>-0.045599</td>\n",
       "      <td>-0.034194</td>\n",
       "      <td>-0.032356</td>\n",
       "      <td>-0.002592</td>\n",
       "      <td>0.002861</td>\n",
       "      <td>-0.025930</td>\n",
       "      <td>141.0</td>\n",
       "    </tr>\n",
       "    <tr>\n",
       "      <th>3</th>\n",
       "      <td>-0.089063</td>\n",
       "      <td>-0.044642</td>\n",
       "      <td>-0.011595</td>\n",
       "      <td>-0.036656</td>\n",
       "      <td>0.012191</td>\n",
       "      <td>0.024991</td>\n",
       "      <td>-0.036038</td>\n",
       "      <td>0.034309</td>\n",
       "      <td>0.022688</td>\n",
       "      <td>-0.009362</td>\n",
       "      <td>206.0</td>\n",
       "    </tr>\n",
       "    <tr>\n",
       "      <th>4</th>\n",
       "      <td>0.005383</td>\n",
       "      <td>-0.044642</td>\n",
       "      <td>-0.036385</td>\n",
       "      <td>0.021872</td>\n",
       "      <td>0.003935</td>\n",
       "      <td>0.015596</td>\n",
       "      <td>0.008142</td>\n",
       "      <td>-0.002592</td>\n",
       "      <td>-0.031988</td>\n",
       "      <td>-0.046641</td>\n",
       "      <td>135.0</td>\n",
       "    </tr>\n",
       "  </tbody>\n",
       "</table>\n",
       "</div>"
      ],
      "text/plain": [
       "        age       sex       bmi        bp        s1        s2        s3  \\\n",
       "0  0.038076  0.050680  0.061696  0.021872 -0.044223 -0.034821 -0.043401   \n",
       "1 -0.001882 -0.044642 -0.051474 -0.026328 -0.008449 -0.019163  0.074412   \n",
       "2  0.085299  0.050680  0.044451 -0.005670 -0.045599 -0.034194 -0.032356   \n",
       "3 -0.089063 -0.044642 -0.011595 -0.036656  0.012191  0.024991 -0.036038   \n",
       "4  0.005383 -0.044642 -0.036385  0.021872  0.003935  0.015596  0.008142   \n",
       "\n",
       "         s4        s5        s6  Progression  \n",
       "0 -0.002592  0.019907 -0.017646        151.0  \n",
       "1 -0.039493 -0.068332 -0.092204         75.0  \n",
       "2 -0.002592  0.002861 -0.025930        141.0  \n",
       "3  0.034309  0.022688 -0.009362        206.0  \n",
       "4 -0.002592 -0.031988 -0.046641        135.0  "
      ]
     },
     "execution_count": 14,
     "metadata": {},
     "output_type": "execute_result"
    }
   ],
   "source": [
    "# Import the dataset\n",
    "diabetes = pd.read_csv(\"diabetes.csv\")\n",
    "diabetes.head()"
   ]
  },
  {
   "cell_type": "code",
   "execution_count": 8,
   "id": "78b90395",
   "metadata": {},
   "outputs": [
    {
     "data": {
      "text/plain": [
       "age            0\n",
       "sex            0\n",
       "bmi            0\n",
       "bp             0\n",
       "s1             0\n",
       "s2             0\n",
       "s3             0\n",
       "s4             0\n",
       "s5             0\n",
       "s6             0\n",
       "Progression    0\n",
       "dtype: int64"
      ]
     },
     "execution_count": 8,
     "metadata": {},
     "output_type": "execute_result"
    }
   ],
   "source": [
    "# check for missing value\n",
    "diabetes.isna().sum()"
   ]
  },
  {
   "cell_type": "markdown",
   "id": "e8cc8e7e",
   "metadata": {},
   "source": [
    "We dont have any missing values."
   ]
  },
  {
   "cell_type": "code",
   "execution_count": 10,
   "id": "48f45997",
   "metadata": {},
   "outputs": [
    {
     "data": {
      "text/plain": [
       "0      False\n",
       "1      False\n",
       "2      False\n",
       "3      False\n",
       "4      False\n",
       "       ...  \n",
       "437    False\n",
       "438    False\n",
       "439    False\n",
       "440    False\n",
       "441    False\n",
       "Length: 442, dtype: bool"
      ]
     },
     "execution_count": 10,
     "metadata": {},
     "output_type": "execute_result"
    }
   ],
   "source": [
    "diabetes.duplicated()"
   ]
  },
  {
   "cell_type": "markdown",
   "id": "ad9b0ba3",
   "metadata": {},
   "source": []
  },
  {
   "cell_type": "markdown",
   "id": "99ad61f2",
   "metadata": {},
   "source": [
    "We dont have any duplicates either."
   ]
  },
  {
   "cell_type": "code",
   "execution_count": 11,
   "id": "cd7cde6e",
   "metadata": {},
   "outputs": [
    {
     "name": "stdout",
     "output_type": "stream",
     "text": [
      "<class 'pandas.core.frame.DataFrame'>\n",
      "RangeIndex: 442 entries, 0 to 441\n",
      "Data columns (total 11 columns):\n",
      " #   Column       Non-Null Count  Dtype  \n",
      "---  ------       --------------  -----  \n",
      " 0   age          442 non-null    float64\n",
      " 1   sex          442 non-null    float64\n",
      " 2   bmi          442 non-null    float64\n",
      " 3   bp           442 non-null    float64\n",
      " 4   s1           442 non-null    float64\n",
      " 5   s2           442 non-null    float64\n",
      " 6   s3           442 non-null    float64\n",
      " 7   s4           442 non-null    float64\n",
      " 8   s5           442 non-null    float64\n",
      " 9   s6           442 non-null    float64\n",
      " 10  Progression  442 non-null    float64\n",
      "dtypes: float64(11)\n",
      "memory usage: 38.1 KB\n"
     ]
    }
   ],
   "source": [
    "diabetes.info()"
   ]
  },
  {
   "cell_type": "markdown",
   "id": "c3a5eae9",
   "metadata": {},
   "source": [
    "All the dtype of the columns is float(numerical) and hence we dont need to use encoding or lebeling."
   ]
  },
  {
   "cell_type": "code",
   "execution_count": 12,
   "id": "5d07dcdb",
   "metadata": {},
   "outputs": [
    {
     "data": {
      "text/html": [
       "<div>\n",
       "<style scoped>\n",
       "    .dataframe tbody tr th:only-of-type {\n",
       "        vertical-align: middle;\n",
       "    }\n",
       "\n",
       "    .dataframe tbody tr th {\n",
       "        vertical-align: top;\n",
       "    }\n",
       "\n",
       "    .dataframe thead th {\n",
       "        text-align: right;\n",
       "    }\n",
       "</style>\n",
       "<table border=\"1\" class=\"dataframe\">\n",
       "  <thead>\n",
       "    <tr style=\"text-align: right;\">\n",
       "      <th></th>\n",
       "      <th>age</th>\n",
       "      <th>sex</th>\n",
       "      <th>bmi</th>\n",
       "      <th>bp</th>\n",
       "      <th>s1</th>\n",
       "      <th>s2</th>\n",
       "      <th>s3</th>\n",
       "      <th>s4</th>\n",
       "      <th>s5</th>\n",
       "      <th>s6</th>\n",
       "      <th>Progression</th>\n",
       "    </tr>\n",
       "  </thead>\n",
       "  <tbody>\n",
       "    <tr>\n",
       "      <th>count</th>\n",
       "      <td>4.420000e+02</td>\n",
       "      <td>4.420000e+02</td>\n",
       "      <td>4.420000e+02</td>\n",
       "      <td>4.420000e+02</td>\n",
       "      <td>4.420000e+02</td>\n",
       "      <td>4.420000e+02</td>\n",
       "      <td>4.420000e+02</td>\n",
       "      <td>4.420000e+02</td>\n",
       "      <td>4.420000e+02</td>\n",
       "      <td>4.420000e+02</td>\n",
       "      <td>442.000000</td>\n",
       "    </tr>\n",
       "    <tr>\n",
       "      <th>mean</th>\n",
       "      <td>-7.284269e-18</td>\n",
       "      <td>2.348549e-17</td>\n",
       "      <td>-2.087320e-16</td>\n",
       "      <td>-4.571507e-17</td>\n",
       "      <td>-9.293722e-18</td>\n",
       "      <td>4.420798e-17</td>\n",
       "      <td>2.135044e-18</td>\n",
       "      <td>2.913707e-17</td>\n",
       "      <td>9.143013e-17</td>\n",
       "      <td>1.431736e-17</td>\n",
       "      <td>152.133484</td>\n",
       "    </tr>\n",
       "    <tr>\n",
       "      <th>std</th>\n",
       "      <td>4.761905e-02</td>\n",
       "      <td>4.761905e-02</td>\n",
       "      <td>4.761905e-02</td>\n",
       "      <td>4.761905e-02</td>\n",
       "      <td>4.761905e-02</td>\n",
       "      <td>4.761905e-02</td>\n",
       "      <td>4.761905e-02</td>\n",
       "      <td>4.761905e-02</td>\n",
       "      <td>4.761905e-02</td>\n",
       "      <td>4.761905e-02</td>\n",
       "      <td>77.093005</td>\n",
       "    </tr>\n",
       "    <tr>\n",
       "      <th>min</th>\n",
       "      <td>-1.072256e-01</td>\n",
       "      <td>-4.464164e-02</td>\n",
       "      <td>-9.027530e-02</td>\n",
       "      <td>-1.123988e-01</td>\n",
       "      <td>-1.267807e-01</td>\n",
       "      <td>-1.156131e-01</td>\n",
       "      <td>-1.023071e-01</td>\n",
       "      <td>-7.639450e-02</td>\n",
       "      <td>-1.260971e-01</td>\n",
       "      <td>-1.377672e-01</td>\n",
       "      <td>25.000000</td>\n",
       "    </tr>\n",
       "    <tr>\n",
       "      <th>25%</th>\n",
       "      <td>-3.729927e-02</td>\n",
       "      <td>-4.464164e-02</td>\n",
       "      <td>-3.422907e-02</td>\n",
       "      <td>-3.665608e-02</td>\n",
       "      <td>-3.424784e-02</td>\n",
       "      <td>-3.035840e-02</td>\n",
       "      <td>-3.511716e-02</td>\n",
       "      <td>-3.949338e-02</td>\n",
       "      <td>-3.324559e-02</td>\n",
       "      <td>-3.317903e-02</td>\n",
       "      <td>87.000000</td>\n",
       "    </tr>\n",
       "    <tr>\n",
       "      <th>50%</th>\n",
       "      <td>5.383060e-03</td>\n",
       "      <td>-4.464164e-02</td>\n",
       "      <td>-7.283766e-03</td>\n",
       "      <td>-5.670422e-03</td>\n",
       "      <td>-4.320866e-03</td>\n",
       "      <td>-3.819065e-03</td>\n",
       "      <td>-6.584468e-03</td>\n",
       "      <td>-2.592262e-03</td>\n",
       "      <td>-1.947171e-03</td>\n",
       "      <td>-1.077698e-03</td>\n",
       "      <td>140.500000</td>\n",
       "    </tr>\n",
       "    <tr>\n",
       "      <th>75%</th>\n",
       "      <td>3.807591e-02</td>\n",
       "      <td>5.068012e-02</td>\n",
       "      <td>3.124802e-02</td>\n",
       "      <td>3.564379e-02</td>\n",
       "      <td>2.835801e-02</td>\n",
       "      <td>2.984439e-02</td>\n",
       "      <td>2.931150e-02</td>\n",
       "      <td>3.430886e-02</td>\n",
       "      <td>3.243232e-02</td>\n",
       "      <td>2.791705e-02</td>\n",
       "      <td>211.500000</td>\n",
       "    </tr>\n",
       "    <tr>\n",
       "      <th>max</th>\n",
       "      <td>1.107267e-01</td>\n",
       "      <td>5.068012e-02</td>\n",
       "      <td>1.705552e-01</td>\n",
       "      <td>1.320436e-01</td>\n",
       "      <td>1.539137e-01</td>\n",
       "      <td>1.987880e-01</td>\n",
       "      <td>1.811791e-01</td>\n",
       "      <td>1.852344e-01</td>\n",
       "      <td>1.335973e-01</td>\n",
       "      <td>1.356118e-01</td>\n",
       "      <td>346.000000</td>\n",
       "    </tr>\n",
       "  </tbody>\n",
       "</table>\n",
       "</div>"
      ],
      "text/plain": [
       "                age           sex           bmi            bp            s1  \\\n",
       "count  4.420000e+02  4.420000e+02  4.420000e+02  4.420000e+02  4.420000e+02   \n",
       "mean  -7.284269e-18  2.348549e-17 -2.087320e-16 -4.571507e-17 -9.293722e-18   \n",
       "std    4.761905e-02  4.761905e-02  4.761905e-02  4.761905e-02  4.761905e-02   \n",
       "min   -1.072256e-01 -4.464164e-02 -9.027530e-02 -1.123988e-01 -1.267807e-01   \n",
       "25%   -3.729927e-02 -4.464164e-02 -3.422907e-02 -3.665608e-02 -3.424784e-02   \n",
       "50%    5.383060e-03 -4.464164e-02 -7.283766e-03 -5.670422e-03 -4.320866e-03   \n",
       "75%    3.807591e-02  5.068012e-02  3.124802e-02  3.564379e-02  2.835801e-02   \n",
       "max    1.107267e-01  5.068012e-02  1.705552e-01  1.320436e-01  1.539137e-01   \n",
       "\n",
       "                 s2            s3            s4            s5            s6  \\\n",
       "count  4.420000e+02  4.420000e+02  4.420000e+02  4.420000e+02  4.420000e+02   \n",
       "mean   4.420798e-17  2.135044e-18  2.913707e-17  9.143013e-17  1.431736e-17   \n",
       "std    4.761905e-02  4.761905e-02  4.761905e-02  4.761905e-02  4.761905e-02   \n",
       "min   -1.156131e-01 -1.023071e-01 -7.639450e-02 -1.260971e-01 -1.377672e-01   \n",
       "25%   -3.035840e-02 -3.511716e-02 -3.949338e-02 -3.324559e-02 -3.317903e-02   \n",
       "50%   -3.819065e-03 -6.584468e-03 -2.592262e-03 -1.947171e-03 -1.077698e-03   \n",
       "75%    2.984439e-02  2.931150e-02  3.430886e-02  3.243232e-02  2.791705e-02   \n",
       "max    1.987880e-01  1.811791e-01  1.852344e-01  1.335973e-01  1.356118e-01   \n",
       "\n",
       "       Progression  \n",
       "count   442.000000  \n",
       "mean    152.133484  \n",
       "std      77.093005  \n",
       "min      25.000000  \n",
       "25%      87.000000  \n",
       "50%     140.500000  \n",
       "75%     211.500000  \n",
       "max     346.000000  "
      ]
     },
     "execution_count": 12,
     "metadata": {},
     "output_type": "execute_result"
    }
   ],
   "source": [
    "diabetes.describe()"
   ]
  },
  {
   "cell_type": "markdown",
   "id": "d6378bbd",
   "metadata": {},
   "source": [
    "In this dataset , the feature variables are : age, sex, bmi, bp, s1, s2, s3, s4, s5, and s6. And the target varible is \n",
    "Progression. Let see the linear model of the feature variables.\n"
   ]
  },
  {
   "cell_type": "markdown",
   "id": "7faabdea",
   "metadata": {},
   "source": [
    "                AGE LINEAR MODEL"
   ]
  },
  {
   "cell_type": "code",
   "execution_count": 13,
   "id": "575efadf",
   "metadata": {},
   "outputs": [],
   "source": [
    "# Select and reshape data\n",
    "x = diabetes.iloc[:,0].values\n",
    "y = diabetes.iloc[:,10].values\n",
    "y=y.reshape(-1, 1)\n",
    "x=x.reshape(-1, 1)"
   ]
  },
  {
   "cell_type": "code",
   "execution_count": 5,
   "id": "5b2dd19e",
   "metadata": {},
   "outputs": [
    {
     "ename": "NameError",
     "evalue": "name 'x' is not defined",
     "output_type": "error",
     "traceback": [
      "\u001b[1;31m---------------------------------------------------------------------------\u001b[0m",
      "\u001b[1;31mNameError\u001b[0m                                 Traceback (most recent call last)",
      "Cell \u001b[1;32mIn[5], line 5\u001b[0m\n\u001b[0;32m      2\u001b[0m age_model \u001b[38;5;241m=\u001b[39m LinearRegression()\n\u001b[0;32m      4\u001b[0m \u001b[38;5;66;03m# Create the model using fit(x,y)\u001b[39;00m\n\u001b[1;32m----> 5\u001b[0m age_model\u001b[38;5;241m.\u001b[39mfit(\u001b[43mx\u001b[49m,y)\n\u001b[0;32m      7\u001b[0m \u001b[38;5;66;03m# Use model to make a prediction\u001b[39;00m\n\u001b[0;32m      8\u001b[0m y_pred \u001b[38;5;241m=\u001b[39m age_model\u001b[38;5;241m.\u001b[39mpredict(x)\n",
      "\u001b[1;31mNameError\u001b[0m: name 'x' is not defined"
     ]
    }
   ],
   "source": [
    "# Create an empty linear regression model\n",
    "age_model = LinearRegression()\n",
    "\n",
    "# Create the model using fit(x,y)\n",
    "age_model.fit(x,y)\n",
    "\n",
    "# Use model to make a prediction\n",
    "y_pred = age_model.predict(x)\n",
    "\n",
    "# Plot model and data\n",
    "plt.scatter(x,y,color = 'b')\n",
    "plt.plot(x,age_model.predict(x),color = 'r')\n",
    "plt.title('Progression vs Age')\n",
    "plt.xlabel('Age')\n",
    "plt.ylabel('Progression')\n",
    "plt.show()\n"
   ]
  },
  {
   "cell_type": "code",
   "execution_count": 21,
   "id": "53f7f22d",
   "metadata": {},
   "outputs": [
    {
     "name": "stdout",
     "output_type": "stream",
     "text": [
      "Coefficients: \n",
      " [[304.18307453]]\n",
      "Intercept: \n",
      " [152.13348416]\n"
     ]
    }
   ],
   "source": [
    "# Age model coefficients\n",
    "print('Coefficients: \\n', age_model.coef_)\n",
    "print('Intercept: \\n', age_model.intercept_)"
   ]
  },
  {
   "cell_type": "markdown",
   "id": "a5db4f3c",
   "metadata": {},
   "source": [
    "                            SEX LINEAR MODEL"
   ]
  },
  {
   "cell_type": "code",
   "execution_count": 6,
   "id": "cf53fef6",
   "metadata": {},
   "outputs": [
    {
     "ename": "NameError",
     "evalue": "name 'diabetes' is not defined",
     "output_type": "error",
     "traceback": [
      "\u001b[1;31m---------------------------------------------------------------------------\u001b[0m",
      "\u001b[1;31mNameError\u001b[0m                                 Traceback (most recent call last)",
      "Cell \u001b[1;32mIn[6], line 2\u001b[0m\n\u001b[0;32m      1\u001b[0m \u001b[38;5;66;03m# Select and reshape data\u001b[39;00m\n\u001b[1;32m----> 2\u001b[0m x \u001b[38;5;241m=\u001b[39m \u001b[43mdiabetes\u001b[49m\u001b[38;5;241m.\u001b[39miloc[:,\u001b[38;5;241m1\u001b[39m]\u001b[38;5;241m.\u001b[39mvalues\n\u001b[0;32m      3\u001b[0m y \u001b[38;5;241m=\u001b[39m diabetes\u001b[38;5;241m.\u001b[39miloc[:,\u001b[38;5;241m10\u001b[39m]\u001b[38;5;241m.\u001b[39mvalues\n\u001b[0;32m      4\u001b[0m y\u001b[38;5;241m=\u001b[39my\u001b[38;5;241m.\u001b[39mreshape(\u001b[38;5;241m-\u001b[39m\u001b[38;5;241m1\u001b[39m, \u001b[38;5;241m1\u001b[39m)\n",
      "\u001b[1;31mNameError\u001b[0m: name 'diabetes' is not defined"
     ]
    }
   ],
   "source": [
    "# Select and reshape data\n",
    "x = diabetes.iloc[:,1].values\n",
    "y = diabetes.iloc[:,10].values\n",
    "y=y.reshape(-1, 1)\n",
    "x=x.reshape(-1, 1)"
   ]
  },
  {
   "cell_type": "code",
   "execution_count": 7,
   "id": "aefcc05e",
   "metadata": {},
   "outputs": [
    {
     "ename": "NameError",
     "evalue": "name 'x' is not defined",
     "output_type": "error",
     "traceback": [
      "\u001b[1;31m---------------------------------------------------------------------------\u001b[0m",
      "\u001b[1;31mNameError\u001b[0m                                 Traceback (most recent call last)",
      "Cell \u001b[1;32mIn[7], line 5\u001b[0m\n\u001b[0;32m      2\u001b[0m sex_model \u001b[38;5;241m=\u001b[39m LinearRegression()\n\u001b[0;32m      4\u001b[0m \u001b[38;5;66;03m# Create the model using fit(x,y)\u001b[39;00m\n\u001b[1;32m----> 5\u001b[0m sex_model\u001b[38;5;241m.\u001b[39mfit(\u001b[43mx\u001b[49m,y)\n\u001b[0;32m      7\u001b[0m \u001b[38;5;66;03m# Use model to make a prediction\u001b[39;00m\n\u001b[0;32m      8\u001b[0m y_pred \u001b[38;5;241m=\u001b[39m sex_model\u001b[38;5;241m.\u001b[39mpredict(x)\n",
      "\u001b[1;31mNameError\u001b[0m: name 'x' is not defined"
     ]
    }
   ],
   "source": [
    "# Create an empty linear regression model\n",
    "sex_model = LinearRegression()\n",
    "\n",
    "# Create the model using fit(x,y)\n",
    "sex_model.fit(x,y)\n",
    "\n",
    "# Use model to make a prediction\n",
    "y_pred = sex_model.predict(x)\n",
    "\n",
    "# Plot model and data\n",
    "plt.scatter(x,y,color = 'b')\n",
    "plt.plot(x,sex_model.predict(x),color = 'r')\n",
    "plt.title('Progression vs Sex')\n",
    "plt.xlabel('Sex')\n",
    "plt.ylabel('Progression')\n",
    "plt.show()\n"
   ]
  },
  {
   "cell_type": "code",
   "execution_count": 22,
   "id": "186c96cb",
   "metadata": {},
   "outputs": [
    {
     "name": "stdout",
     "output_type": "stream",
     "text": [
      "Coefficients: \n",
      " [[69.71535568]]\n",
      "Intercept: \n",
      " [152.13348416]\n"
     ]
    }
   ],
   "source": [
    "# Sex model coefficients\n",
    "print('Coefficients: \\n', sex_model.coef_)\n",
    "print('Intercept: \\n', sex_model.intercept_)"
   ]
  },
  {
   "cell_type": "markdown",
   "id": "4ecae6ae",
   "metadata": {},
   "source": [
    "                          BMI LINEAR MODEL"
   ]
  },
  {
   "cell_type": "code",
   "execution_count": 15,
   "id": "46ff0650",
   "metadata": {},
   "outputs": [],
   "source": [
    "# Select and reshape data\n",
    "x = diabetes.iloc[:,2].values\n",
    "y = diabetes.iloc[:,10].values\n",
    "y=y.reshape(-1, 1)\n",
    "x=x.reshape(-1, 1)"
   ]
  },
  {
   "cell_type": "code",
   "execution_count": 16,
   "id": "ee219adc",
   "metadata": {},
   "outputs": [
    {
     "data": {
      "image/png": "[encoded data removed]",
      "text/plain": [
       "<Figure size 640x480 with 1 Axes>"
      ]
     },
     "metadata": {},
     "output_type": "display_data"
    }
   ],
   "source": [
    "# Create an empty linear regression model\n",
    "bmi_model = LinearRegression()\n",
    "\n",
    "# Create the model using fit(x,y)\n",
    "bmi_model.fit(x,y)\n",
    "\n",
    "# Use model to make a prediction\n",
    "y_pred = bmi_model.predict(x)\n",
    "\n",
    "# Plot model and data\n",
    "plt.scatter(x,y,color = 'b')\n",
    "plt.plot(x,bmi_model.predict(x),color = 'r')\n",
    "plt.title('Progression vs Bmi')\n",
    "plt.xlabel('Bmi')\n",
    "plt.ylabel('Progression')\n",
    "plt.show()"
   ]
  },
  {
   "cell_type": "code",
   "execution_count": 25,
   "id": "7aad7e21",
   "metadata": {},
   "outputs": [
    {
     "name": "stdout",
     "output_type": "stream",
     "text": [
      "Coefficients: \n",
      " [[949.43526038]]\n",
      "Intercept: \n",
      " [152.13348416]\n"
     ]
    }
   ],
   "source": [
    "# Bmi model coefficients\n",
    "print('Coefficients: \\n', bmi_model.coef_)\n",
    "print('Intercept: \\n', bmi_model.intercept_)"
   ]
  },
  {
   "cell_type": "markdown",
   "id": "22d6eb44",
   "metadata": {},
   "source": [
    "                  BP LINEAR MODEL"
   ]
  },
  {
   "cell_type": "code",
   "execution_count": 10,
   "id": "cb76aea7",
   "metadata": {},
   "outputs": [
    {
     "ename": "NameError",
     "evalue": "name 'diabetes' is not defined",
     "output_type": "error",
     "traceback": [
      "\u001b[1;31m---------------------------------------------------------------------------\u001b[0m",
      "\u001b[1;31mNameError\u001b[0m                                 Traceback (most recent call last)",
      "Cell \u001b[1;32mIn[10], line 2\u001b[0m\n\u001b[0;32m      1\u001b[0m \u001b[38;5;66;03m# Select and reshape data\u001b[39;00m\n\u001b[1;32m----> 2\u001b[0m x \u001b[38;5;241m=\u001b[39m \u001b[43mdiabetes\u001b[49m\u001b[38;5;241m.\u001b[39miloc[:,\u001b[38;5;241m3\u001b[39m]\u001b[38;5;241m.\u001b[39mvalues\n\u001b[0;32m      3\u001b[0m y \u001b[38;5;241m=\u001b[39m diabetes\u001b[38;5;241m.\u001b[39miloc[:,\u001b[38;5;241m10\u001b[39m]\u001b[38;5;241m.\u001b[39mvalues\n\u001b[0;32m      4\u001b[0m y\u001b[38;5;241m=\u001b[39my\u001b[38;5;241m.\u001b[39mreshape(\u001b[38;5;241m-\u001b[39m\u001b[38;5;241m1\u001b[39m, \u001b[38;5;241m1\u001b[39m)\n",
      "\u001b[1;31mNameError\u001b[0m: name 'diabetes' is not defined"
     ]
    }
   ],
   "source": [
    "# Select and reshape data\n",
    "x = diabetes.iloc[:,3].values\n",
    "y = diabetes.iloc[:,10].values\n",
    "y=y.reshape(-1, 1)\n",
    "x=x.reshape(-1, 1)"
   ]
  },
  {
   "cell_type": "code",
   "execution_count": 27,
   "id": "b01b72ec",
   "metadata": {},
   "outputs": [
    {
     "data": {
      "image/png": "[encoded data removed]",
      "text/plain": [
       "<Figure size 640x480 with 1 Axes>"
      ]
     },
     "metadata": {},
     "output_type": "display_data"
    }
   ],
   "source": [
    "# Create an empty linear regression model\n",
    "bp_model = LinearRegression()\n",
    "\n",
    "# Create the model using fit(x,y)\n",
    "bp_model.fit(x,y)\n",
    "\n",
    "# Use model to make a prediction\n",
    "y_pred = bp_model.predict(x)\n",
    "\n",
    "# Plot model and data\n",
    "plt.scatter(x,y,color = 'b')\n",
    "plt.plot(x,bp_model.predict(x),color = 'r')\n",
    "plt.title('Progression vs Bp')\n",
    "plt.xlabel('Bp')\n",
    "plt.ylabel('Progression')\n",
    "plt.show()"
   ]
  },
  {
   "cell_type": "code",
   "execution_count": 28,
   "id": "0ab921f6",
   "metadata": {},
   "outputs": [
    {
     "name": "stdout",
     "output_type": "stream",
     "text": [
      "Coefficients: \n",
      " [[949.43526038]]\n",
      "Intercept: \n",
      " [152.13348416]\n"
     ]
    }
   ],
   "source": [
    "# Bmi model coefficients\n",
    "print('Coefficients: \\n', bmi_model.coef_)\n",
    "print('Intercept: \\n', bmi_model.intercept_)"
   ]
  },
  {
   "cell_type": "markdown",
   "id": "475bae7c",
   "metadata": {},
   "source": [
    "             S1 LINEAR MODEL"
   ]
  },
  {
   "cell_type": "code",
   "execution_count": 17,
   "id": "aaa0922e",
   "metadata": {},
   "outputs": [],
   "source": [
    "# Select and reshape data\n",
    "x = diabetes.iloc[:,4].values\n",
    "y = diabetes.iloc[:,10].values\n",
    "y=y.reshape(-1, 1)\n",
    "x=x.reshape(-1, 1)"
   ]
  },
  {
   "cell_type": "code",
   "execution_count": 18,
   "id": "b8ab8ffa",
   "metadata": {},
   "outputs": [
    {
     "data": {
      "image/png": "[encoded data removed]",
      "text/plain": [
       "<Figure size 640x480 with 1 Axes>"
      ]
     },
     "metadata": {},
     "output_type": "display_data"
    }
   ],
   "source": [
    "# Create an empty linear regression model\n",
    "s1_model = LinearRegression()\n",
    "\n",
    "# Create the model using fit(x,y)\n",
    "s1_model.fit(x,y)\n",
    "\n",
    "# Use model to make a prediction\n",
    "y_pred = s1_model.predict(x)\n",
    "\n",
    "# Plot model and data\n",
    "plt.scatter(x,y,color = 'b')\n",
    "plt.plot(x,s1_model.predict(x),color = 'r')\n",
    "plt.title('Progression vs S1')\n",
    "plt.xlabel('s1')\n",
    "plt.ylabel('Progression')\n",
    "plt.show()"
   ]
  },
  {
   "cell_type": "code",
   "execution_count": 32,
   "id": "d7631010",
   "metadata": {},
   "outputs": [
    {
     "name": "stdout",
     "output_type": "stream",
     "text": [
      "Coefficients: \n",
      " [[343.25445189]]\n",
      "Intercept: \n",
      " [152.13348416]\n"
     ]
    }
   ],
   "source": [
    "# s1 model coefficients\n",
    "print('Coefficients: \\n', s1_model.coef_)\n",
    "print('Intercept: \\n', s1_model.intercept_)"
   ]
  },
  {
   "cell_type": "markdown",
   "id": "62ac5d82",
   "metadata": {},
   "source": [
    "                 MULTIPLE LINEAR REGRESSION"
   ]
  },
  {
   "cell_type": "code",
   "execution_count": 20,
   "id": "5a52effe",
   "metadata": {},
   "outputs": [
    {
     "data": {
      "text/plain": [
       "array([[-0.00188202, -0.04464164, -0.05147406, -0.02632753, -0.00844872,\n",
       "        -0.01916334,  0.07441156, -0.03949338, -0.06833155, -0.09220405],\n",
       "       [ 0.08529891,  0.05068012,  0.04445121, -0.00567042, -0.04559945,\n",
       "        -0.03419447, -0.03235593, -0.00259226,  0.00286131, -0.02593034],\n",
       "       [-0.08906294, -0.04464164, -0.01159501, -0.03665608,  0.01219057,\n",
       "         0.02499059, -0.03603757,  0.03430886,  0.02268774, -0.00936191],\n",
       "       [ 0.00538306, -0.04464164, -0.03638469,  0.02187239,  0.00393485,\n",
       "         0.01559614,  0.00814208, -0.00259226, -0.03198764, -0.04664087],\n",
       "       [-0.09269548, -0.04464164, -0.04069594, -0.01944183, -0.06899065,\n",
       "        -0.07928784,  0.04127682, -0.0763945 , -0.04117617, -0.09634616]])"
      ]
     },
     "execution_count": 20,
     "metadata": {},
     "output_type": "execute_result"
    }
   ],
   "source": [
    "X = diabetes.iloc[:,[0, 1, 2, 3, 4, 5, 6, 7, 8, 9]].values\n",
    "X[1:6]"
   ]
  },
  {
   "cell_type": "code",
   "execution_count": 21,
   "id": "033fa7f8",
   "metadata": {},
   "outputs": [
    {
     "data": {
      "text/plain": [
       "array([[151.],\n",
       "       [ 75.],\n",
       "       [141.],\n",
       "       [206.]])"
      ]
     },
     "execution_count": 21,
     "metadata": {},
     "output_type": "execute_result"
    }
   ],
   "source": [
    "# Select and reshape data\n",
    "y = diabetes.iloc[:,10].values\n",
    "y = y.reshape(-1, 1)\n",
    "X = X.reshape(-1, X.shape[1])\n",
    "y[0:4]\n"
   ]
  },
  {
   "cell_type": "code",
   "execution_count": 38,
   "id": "412201ed",
   "metadata": {},
   "outputs": [
    {
     "name": "stdout",
     "output_type": "stream",
     "text": [
      "Intercept: \n",
      " [152.13348416]\n",
      "Coefficients: \n",
      " [[ -10.0098663  -239.81564367  519.84592005  324.3846455  -792.17563855\n",
      "   476.73902101  101.04326794  177.06323767  751.27369956   67.62669218]]\n"
     ]
    }
   ],
   "source": [
    "# Create an empty linear regression model\n",
    "progression_model = LinearRegression()\n",
    "\n",
    "# Create the model using fit(X,y)\n",
    "progression_model.fit(X,y)\n",
    "\n",
    "# Get intercept and coefficients\n",
    "print('Intercept: \\n', progression_model.intercept_)\n",
    "print('Coefficients: \\n', progression_model.coef_)"
   ]
  },
  {
   "cell_type": "markdown",
   "id": "7eacbdb7",
   "metadata": {},
   "source": [
    "                            TRAINING AND TEST SAMPLES"
   ]
  },
  {
   "cell_type": "code",
   "execution_count": 22,
   "id": "93719169",
   "metadata": {},
   "outputs": [
    {
     "name": "stdout",
     "output_type": "stream",
     "text": [
      "Training data: (353, 10) (353, 1)\n",
      "Test data: (89, 10) (89, 1)\n"
     ]
    }
   ],
   "source": [
    "# Split data into training and test sets\n",
    "rseed = 23 # Use the same random seed for learning for the purpose of reproducibility\n",
    "X_train, X_test, y_train, y_test = train_test_split(X, y, test_size = 0.20,  random_state = rseed, shuffle = True)\n",
    "\n",
    "print (\"Training data:\",X_train.shape, y_train.shape)\n",
    "print (\"Test data:\",X_test.shape, y_test.shape)"
   ]
  },
  {
   "cell_type": "markdown",
   "id": "061e9f30",
   "metadata": {},
   "source": [
    "                        FEATURE SCALING"
   ]
  },
  {
   "cell_type": "markdown",
   "id": "285513ec",
   "metadata": {},
   "source": [
    "The feature variables in this  data set are already scaled meaning they have values between 1  and -1 and hence we dont need to scale it any more."
   ]
  },
  {
   "cell_type": "markdown",
   "id": "1fcb38da",
   "metadata": {},
   "source": [
    "           FIT THE MODEL ON THE TRAINING DATA "
   ]
  },
  {
   "cell_type": "code",
   "execution_count": 23,
   "id": "eff8c9bb",
   "metadata": {},
   "outputs": [
    {
     "name": "stdout",
     "output_type": "stream",
     "text": [
      "Intercept: \n",
      " [151.52824621]\n",
      "Coefficients: \n",
      " [[  -19.84569955  -271.44799521   518.60568284   326.13921989\n",
      "  -1003.87022985   624.04203978   220.7339424    263.93739547\n",
      "    829.85679767    77.75019971]]\n"
     ]
    }
   ],
   "source": [
    "# Fit a model\n",
    "linear_model  = LinearRegression()\n",
    "model = linear_model.fit(X_train, y_train)\n",
    "predictions = linear_model.predict(X_test)\n",
    "\n",
    "# Create line coordinates\n",
    "X_line = np.empty(X_test.shape)\n",
    "for i in range(X_test.shape[1]):\n",
    "    X_line[:, i] = np.linspace(np.min(X_test[:,i]), np.max(X_test[:,i]), num=X_test.shape[0])\n",
    "y_line = linear_model.predict(X_line)\n",
    "\n",
    "print('Intercept: \\n', linear_model.intercept_)\n",
    "print('Coefficients: \\n', linear_model.coef_)"
   ]
  },
  {
   "cell_type": "code",
   "execution_count": 24,
   "id": "653efd23",
   "metadata": {},
   "outputs": [
    {
     "data": {
      "text/plain": [
       "array([[290.8985031 ],\n",
       "       [132.81832981],\n",
       "       [140.44601181],\n",
       "       [ 30.52576133],\n",
       "       [200.92486072],\n",
       "       [198.95481117]])"
      ]
     },
     "execution_count": 24,
     "metadata": {},
     "output_type": "execute_result"
    }
   ],
   "source": [
    "# Predictions\n",
    "predictions[0:6]"
   ]
  },
  {
   "cell_type": "code",
   "execution_count": 48,
   "id": "acea6ab0",
   "metadata": {},
   "outputs": [
    {
     "data": {
      "text/plain": [
       "array([[272.],\n",
       "       [ 60.],\n",
       "       [ 54.],\n",
       "       [221.],\n",
       "       [ 90.],\n",
       "       [311.]])"
      ]
     },
     "execution_count": 48,
     "metadata": {},
     "output_type": "execute_result"
    }
   ],
   "source": [
    "y[354:360]"
   ]
  },
  {
   "cell_type": "code",
   "execution_count": 25,
   "id": "e5e2f97c",
   "metadata": {},
   "outputs": [
    {
     "data": {
      "image/png": "[encoded data removed]",
      "text/plain": [
       "<Figure size 1200x200 with 10 Axes>"
      ]
     },
     "metadata": {},
     "output_type": "display_data"
    }
   ],
   "source": [
    "## Plot the errors\n",
    "fig, ax = plt.subplots(1, X_test.shape[1], sharey=True, sharex=True, figsize=(12,2))\n",
    "fig.suptitle(\"Y vs X on Each Dimension\")\n",
    "ax[0].set_ylabel(diabetes.columns[10])\n",
    "\n",
    "# Get values for the error bar\n",
    "error_bar_values = np.abs((y_test-predictions)[:,0])\n",
    "\n",
    "# Plot data, predicted values, and error bars\n",
    "for i in range(X_test.shape[1]):\n",
    "    ax[i].errorbar(X_test[:, i], y_test[:, 0], yerr=error_bar_values, fmt='.k', ecolor='red', label='True')\n",
    "    ax[i].scatter(X_test[:,i], predictions[:,0], c='b', marker='.', label='Predicted')\n",
    "    ax[i].legend(loc='best', fontsize='x-small')"
   ]
  },
  {
   "cell_type": "markdown",
   "id": "f0e8e947",
   "metadata": {},
   "source": [
    "The red lines indicate the error of the prediction from the actual observations. The black dots represent true values, and the blue dots represent predicted values. Notice that , at the end of the red lines, either at the top or bottom, is a blue dot. In other words, you can read the red error line as the distance deviated from the true values. The reason why there is a red line either side of the black dot is to show that the error may be within that line, either above or below."
   ]
  },
  {
   "cell_type": "markdown",
   "id": "dd473b3f",
   "metadata": {},
   "source": [
    "                 R SQUARED ERROR AND ROOT MEAN SQUARE ERROR(RMSE)"
   ]
  },
  {
   "cell_type": "code",
   "execution_count": 26,
   "id": "d01ed56f",
   "metadata": {},
   "outputs": [
    {
     "name": "stdout",
     "output_type": "stream",
     "text": [
      "R2 Score: 0.4588\n",
      "R2_Score: 0.4588\n"
     ]
    }
   ],
   "source": [
    "# R squared score\n",
    "print (\"R2 Score:\", round (model.score(X_test, y_test), 4))\n",
    "print (\"R2_Score:\", round (r2_score(y_test, predictions), 4))"
   ]
  },
  {
   "cell_type": "markdown",
   "id": "1b87d20c",
   "metadata": {},
   "source": [
    "R2(R-squared) score  is a key metric to evaluate the performance of a regression model.It quantifies how well the model's predictions match the actual data.Higher R² values indicate better model performance.However the R2 score in this dataset is calculated to 0.4588(45.88%) which is very low and hence it can concluded that the model does not fit well for for this data set.\n"
   ]
  },
  {
   "cell_type": "markdown",
   "id": "e133eb8f",
   "metadata": {},
   "source": [
    "Lets use RMSE to evaluate the performance of the model.It measures the average magnitude of the errors between the predicted values and the actual values."
   ]
  },
  {
   "cell_type": "code",
   "execution_count": 27,
   "id": "5bd88d63",
   "metadata": {},
   "outputs": [
    {
     "name": "stdout",
     "output_type": "stream",
     "text": [
      "RMSE:  3171.5866\n"
     ]
    }
   ],
   "source": [
    "# mse = mean_squared_error(y_actual, y_predicted)\n",
    "print (\"RMSE: \", round (mean_squared_error(y_test, predictions), 4))\n"
   ]
  },
  {
   "cell_type": "markdown",
   "id": "e08d8fc2",
   "metadata": {},
   "source": [
    "RMSE provides a measure of how well the model's predictions match the actual values.Lower RMSE values indicate better model performance. In our case we calculate the RMSE to be 3171.5866 which is a very big number - this shows the error is very large and we can conclude that our model does not fit well with the observation given."
   ]
  },
  {
   "cell_type": "code",
   "execution_count": 30,
   "id": "a63dc2bf",
   "metadata": {},
   "outputs": [
    {
     "name": "stdout",
     "output_type": "stream",
     "text": [
      "explained_variance:  0.4604\n",
      "mean_squared_log_error:  0.187\n",
      "r2:  0.4588\n",
      "MAE:  44.6338\n",
      "MSE:  3171.5866\n",
      "RMSE:  56.3168\n"
     ]
    }
   ],
   "source": [
    "# Regression metrics\n",
    "explained_variance=metrics.explained_variance_score(y_test, predictions)\n",
    "mean_absolute_error=metrics.mean_absolute_error(y_test, predictions)\n",
    "mse=metrics.mean_squared_error(y_test, predictions)\n",
    "mean_squared_log_error=metrics.mean_squared_log_error(y_test, predictions)\n",
    "median_absolute_error=metrics.median_absolute_error(y_test, predictions)\n",
    "r2=metrics.r2_score(y_test, predictions)\n",
    "\n",
    "print('explained_variance: ', round(explained_variance,4))\n",
    "print('mean_squared_log_error: ', round(mean_squared_log_error,4))\n",
    "print('r2: ', round(r2,4))\n",
    "print('MAE: ', round(mean_absolute_error,4))\n",
    "print('MSE: ', round(mse,4))\n",
    "print('RMSE: ', round(np.sqrt(mse),4))\n"
   ]
  },
  {
   "cell_type": "code",
   "execution_count": null,
   "id": "0fe2e5a2",
   "metadata": {},
   "outputs": [],
   "source": []
  }
 ],
 "metadata": {
  "kernelspec": {
   "display_name": "Python 3",
   "language": "python",
   "name": "python3"
  },
  "language_info": {
   "codemirror_mode": {
    "name": "ipython",
    "version": 3
   },
   "file_extension": ".py",
   "mimetype": "text/x-python",
   "name": "python",
   "nbconvert_exporter": "python",
   "pygments_lexer": "ipython3",
   "version": "3.12.2"
  }
 },
 "nbformat": 4,
 "nbformat_minor": 5
}
